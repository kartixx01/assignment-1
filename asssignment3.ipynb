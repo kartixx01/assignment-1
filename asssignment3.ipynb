{
  "nbformat": 4,
  "nbformat_minor": 0,
  "metadata": {
    "colab": {
      "provenance": [],
      "authorship_tag": "ABX9TyOThhdR9kSpovZ8Qt2pBk5H",
      "include_colab_link": true
    },
    "kernelspec": {
      "name": "python3",
      "display_name": "Python 3"
    },
    "language_info": {
      "name": "python"
    }
  },
  "cells": [
    {
      "cell_type": "markdown",
      "metadata": {
        "id": "view-in-github",
        "colab_type": "text"
      },
      "source": [
        "<a href=\"https://colab.research.google.com/github/kartixx01/assignment-1/blob/main/asssignment3.ipynb\" target=\"_parent\"><img src=\"https://colab.research.google.com/assets/colab-badge.svg\" alt=\"Open In Colab\"/></a>"
      ]
    },
    {
      "cell_type": "markdown",
      "source": [
        "question 1"
      ],
      "metadata": {
        "id": "6nDODMQcQUAX"
      }
    },
    {
      "cell_type": "code",
      "source": [
        "def sort(list):\n",
        "  return sorted(list, key=lambda x: x[1])\n",
        "\n",
        "\n",
        "list = [('Sachin Tendulkar', 34357), ('Ricky Ponting', 27483), ('Jack Kallis', 25534), ('Virat Kohli', 24936)]\n",
        "\n",
        "print(sort(list))"
      ],
      "metadata": {
        "colab": {
          "base_uri": "https://localhost:8080/"
        },
        "id": "0gPfi3rQQZLd",
        "outputId": "26bab443-c416-438e-d351-84fb054ecc01"
      },
      "execution_count": 1,
      "outputs": [
        {
          "output_type": "stream",
          "name": "stdout",
          "text": [
            "[('Virat Kohli', 24936), ('Jack Kallis', 25534), ('Ricky Ponting', 27483), ('Sachin Tendulkar', 34357)]\n"
          ]
        }
      ]
    },
    {
      "cell_type": "markdown",
      "source": [
        "question 2"
      ],
      "metadata": {
        "id": "4z5gCzM_R4_N"
      }
    },
    {
      "cell_type": "code",
      "source": [
        "l=[1, 2, 3, 4, 5, 6, 7, 8, 9, 10]\n",
        "tuple(map(lambda x:x**2,l))\n"
      ],
      "metadata": {
        "colab": {
          "base_uri": "https://localhost:8080/"
        },
        "id": "t9ldAEq6R7Df",
        "outputId": "79d1ea43-f991-49a1-e755-d03f57580e3e"
      },
      "execution_count": 15,
      "outputs": [
        {
          "output_type": "execute_result",
          "data": {
            "text/plain": [
              "(1, 4, 9, 16, 25, 36, 49, 64, 81, 100)"
            ]
          },
          "metadata": {},
          "execution_count": 15
        }
      ]
    },
    {
      "cell_type": "markdown",
      "source": [
        "question 3"
      ],
      "metadata": {
        "id": "3NDEsqT6UkuY"
      }
    },
    {
      "cell_type": "code",
      "source": [
        "l=[1, 2, 3, 4, 5, 6, 7, 8, 9, 10]\n",
        "tuple(map(lambda x:str(x),l))"
      ],
      "metadata": {
        "colab": {
          "base_uri": "https://localhost:8080/"
        },
        "id": "cNmt81fOUmmX",
        "outputId": "c1184919-cf76-41c3-ae81-259e0b0d608c"
      },
      "execution_count": 10,
      "outputs": [
        {
          "output_type": "execute_result",
          "data": {
            "text/plain": [
              "('1', '2', '3', '4', '5', '6', '7', '8', '9', '10')"
            ]
          },
          "metadata": {},
          "execution_count": 10
        }
      ]
    },
    {
      "cell_type": "markdown",
      "source": [
        "question 4"
      ],
      "metadata": {
        "id": "NssRAJPJVeY1"
      }
    },
    {
      "cell_type": "code",
      "source": [
        "a=[]\n",
        "for i in range(1,26):\n",
        "  a.append(i)\n",
        "from functools import reduce\n",
        "reduce(lambda x,y:x*y,a)"
      ],
      "metadata": {
        "colab": {
          "base_uri": "https://localhost:8080/"
        },
        "id": "nUYKEEY7VhT3",
        "outputId": "702c65ee-05c2-4b43-9aff-08eaaa784c6e"
      },
      "execution_count": 12,
      "outputs": [
        {
          "output_type": "execute_result",
          "data": {
            "text/plain": [
              "15511210043330985984000000"
            ]
          },
          "metadata": {},
          "execution_count": 12
        }
      ]
    },
    {
      "cell_type": "markdown",
      "source": [
        "question 5"
      ],
      "metadata": {
        "id": "riiYFfTWXE51"
      }
    },
    {
      "cell_type": "code",
      "source": [
        "l=[2, 3, 6, 9, 27, 60, 90, 120, 55, 46]\n",
        "tuple(filter(lambda x:x%2==0 and x%3==0,l))"
      ],
      "metadata": {
        "colab": {
          "base_uri": "https://localhost:8080/"
        },
        "id": "9JDsxjXaXGjL",
        "outputId": "cedc689a-7e51-40f8-f2e1-fb969c8659e5"
      },
      "execution_count": 14,
      "outputs": [
        {
          "output_type": "execute_result",
          "data": {
            "text/plain": [
              "(6, 60, 90, 120)"
            ]
          },
          "metadata": {},
          "execution_count": 14
        }
      ]
    },
    {
      "cell_type": "markdown",
      "source": [
        "question 6"
      ],
      "metadata": {
        "id": "6f4aNPnyXubf"
      }
    },
    {
      "cell_type": "code",
      "source": [
        "l=['python', 'php', 'aba', 'radar', 'level']\n",
        "tuple(filter(lambda x:x==x[::-1],l))"
      ],
      "metadata": {
        "colab": {
          "base_uri": "https://localhost:8080/"
        },
        "id": "ptgdrNqYXw6y",
        "outputId": "47801295-641f-442e-dc1f-8c0bad230288"
      },
      "execution_count": 17,
      "outputs": [
        {
          "output_type": "execute_result",
          "data": {
            "text/plain": [
              "('php', 'aba', 'radar', 'level')"
            ]
          },
          "metadata": {},
          "execution_count": 17
        }
      ]
    }
  ]
}