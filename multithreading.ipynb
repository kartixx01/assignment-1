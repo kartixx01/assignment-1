{
  "nbformat": 4,
  "nbformat_minor": 0,
  "metadata": {
    "colab": {
      "provenance": [],
      "authorship_tag": "ABX9TyM6uU7MCxI7tbq1tVH0ziuA",
      "include_colab_link": true
    },
    "kernelspec": {
      "name": "python3",
      "display_name": "Python 3"
    },
    "language_info": {
      "name": "python"
    }
  },
  "cells": [
    {
      "cell_type": "markdown",
      "metadata": {
        "id": "view-in-github",
        "colab_type": "text"
      },
      "source": [
        "<a href=\"https://colab.research.google.com/github/kartixx01/assignment-1/blob/main/multithreading.ipynb\" target=\"_parent\"><img src=\"https://colab.research.google.com/assets/colab-badge.svg\" alt=\"Open In Colab\"/></a>"
      ]
    },
    {
      "cell_type": "markdown",
      "source": [
        "question 1"
      ],
      "metadata": {
        "id": "xZ1vhKKTjRwF"
      }
    },
    {
      "cell_type": "markdown",
      "source": [
        "Multithreading in Python is a technique that allows multiple tasks to be executed simultaneously.In simple words, the ability of a processor to execute multiple threads simultaneously is known as multithreading.\n",
        "\n",
        "threading module is used to handle threads in python"
      ],
      "metadata": {
        "id": "OwS_Dk40jtNm"
      }
    },
    {
      "cell_type": "markdown",
      "source": [
        "question 2"
      ],
      "metadata": {
        "id": "KimGKei9kL3q"
      }
    },
    {
      "cell_type": "markdown",
      "source": [
        "threading.active_count() - function returns the number of currently active threads\n",
        "\n",
        "threading.current_thread() - returns a Thread object, which represents the current thread of execution. The Thread object has a number of attributes, including the thread's name, ID, and state.\n",
        "\n",
        "enumerate() - function is a built-in function that allows you to iterate through a sequence and keep track of the index of each element"
      ],
      "metadata": {
        "id": "dAyeqkdPkRJG"
      }
    },
    {
      "cell_type": "markdown",
      "source": [
        "question 3"
      ],
      "metadata": {
        "id": "nGXSObWNmefV"
      }
    },
    {
      "cell_type": "code",
      "source": [
        "import threading\n",
        "def square(x):\n",
        "  sq=x*x\n",
        "  print(\"square is %d\" % sq)\n",
        "\n",
        "def cube(x):\n",
        "  cb=x*x*x\n",
        "  print(\"cube is %d\" % cb)\n",
        "\n",
        "thread1 = [threading.Thread(target=square , args=(i,)) for i in range(1,11)]\n",
        "\n",
        "thread2 = [threading.Thread(target=cube , args=(j,)) for j in range(1,11)]\n",
        "\n",
        "for t in thread1:\n",
        "  t.start()\n",
        "\n",
        "print(\"______\")\n",
        "\n",
        "for t in thread2:\n",
        "  t.start()\n"
      ],
      "metadata": {
        "colab": {
          "base_uri": "https://localhost:8080/"
        },
        "id": "LMw-HZSHqrBS",
        "outputId": "4dcbc560-52b3-42d4-ea74-f1a296421f52"
      },
      "execution_count": 12,
      "outputs": [
        {
          "output_type": "stream",
          "name": "stdout",
          "text": [
            "square is 1\n",
            "square is 4\n",
            "square is 9\n",
            "square is 16\n",
            "square is 25\n",
            "square is 36\n",
            "square is 49\n",
            "square is 64\n",
            "square is 81\n",
            "square is 100______\n",
            "\n",
            "cube is 1\n",
            "cube is 8\n",
            "cube is 27\n",
            "cube is 64\n",
            "cube is 125\n",
            "cube is 216\n",
            "cube is 343\n",
            "cube is 512\n",
            "cube is 729\n",
            "cube is 1000\n"
          ]
        }
      ]
    },
    {
      "cell_type": "markdown",
      "source": [
        "question 4"
      ],
      "metadata": {
        "id": "4gCJyNbEvpy0"
      }
    },
    {
      "cell_type": "markdown",
      "source": [
        "Advantages of a Multithreading\n",
        "\n",
        "Improved performance and concurrency\n",
        "\n",
        "Simplified coding of remote procedure calls and conversations\n",
        "\n",
        "Simultaneous access to multiple applications\n",
        "\n",
        "Reduced number of required servers\n",
        "\n",
        "_________________________________________________________\n",
        "\n",
        "Disadvantages of a Multithreading\n",
        "\n",
        "Difficulty of writing code\n",
        "Multithreaded and multicontexted applications are not easy to write.\n",
        "\n",
        "Difficulty of debugging\n",
        "\n",
        "Difficulty of managing concurrency\n",
        "The task of managing concurrency among threads is difficult and has the potential to introduce new problems into an application.\n",
        "\n",
        "Difficulty of testing\n",
        "Testing a multithreaded application is more difficult than testing a single-threaded application because defects are often timing-related and more difficult to reproduce.\n"
      ],
      "metadata": {
        "id": "kGVaZ0fVvtZG"
      }
    }
  ]
}