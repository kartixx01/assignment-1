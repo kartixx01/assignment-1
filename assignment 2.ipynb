{
 "cells": [
  {
   "cell_type": "markdown",
   "id": "485c8918",
   "metadata": {},
   "source": [
    "# question 1"
   ]
  },
  {
   "cell_type": "code",
   "execution_count": 2,
   "id": "8e006237",
   "metadata": {},
   "outputs": [],
   "source": [
    "#comments are the lines ignored by the interpreter . they are not executed by the program\n",
    "#we can comment using the # or double quotations(\"hi\") or triple qoutations('''hi'') "
   ]
  },
  {
   "cell_type": "markdown",
   "id": "d422c705",
   "metadata": {},
   "source": [
    "# question 2"
   ]
  },
  {
   "cell_type": "markdown",
   "id": "be9f6868",
   "metadata": {},
   "source": [
    "variables are containers that store values. variables can be defined as single words or an underscore between multiple words\n",
    "variables cannot start with any specia; character or a number"
   ]
  },
  {
   "cell_type": "markdown",
   "id": "40c1274f",
   "metadata": {},
   "source": [
    "# question 3"
   ]
  },
  {
   "cell_type": "markdown",
   "id": "e130cd9a",
   "metadata": {},
   "source": [
    "To convert between datatypes use the type name as a function.\n",
    "eg"
   ]
  },
  {
   "cell_type": "code",
   "execution_count": 5,
   "id": "a82a6de2",
   "metadata": {},
   "outputs": [
    {
     "name": "stdout",
     "output_type": "stream",
     "text": [
      "3 - 3.1415\n"
     ]
    }
   ],
   "source": [
    "num=3.1415\n",
    "print(\"{} - {}\".format(int(num),str(num)))"
   ]
  },
  {
   "cell_type": "markdown",
   "id": "f34ac121",
   "metadata": {},
   "source": [
    "# question 4"
   ]
  },
  {
   "cell_type": "markdown",
   "id": "831a0fb8",
   "metadata": {},
   "source": [
    "open a command line and type the word python followed by the path to your script file like this: python first_script.py Hello World!"
   ]
  },
  {
   "cell_type": "markdown",
   "id": "a75eeba8",
   "metadata": {},
   "source": [
    "# question 5"
   ]
  },
  {
   "cell_type": "code",
   "execution_count": 7,
   "id": "fb055fa6",
   "metadata": {},
   "outputs": [
    {
     "data": {
      "text/plain": [
       "[2, 3]"
      ]
     },
     "execution_count": 7,
     "metadata": {},
     "output_type": "execute_result"
    }
   ],
   "source": [
    "my_list=[1,2,3,4,5]\n",
    "my_list[1:3]"
   ]
  },
  {
   "cell_type": "markdown",
   "id": "907a28ee",
   "metadata": {},
   "source": [
    "# question 6"
   ]
  },
  {
   "cell_type": "markdown",
   "id": "3ce26e72",
   "metadata": {},
   "source": [
    "complex numbers are the imaginary numbers \n",
    "they are represented as a+ib where i is the imaginary number(iota)"
   ]
  },
  {
   "cell_type": "markdown",
   "id": "ecdaaa88",
   "metadata": {},
   "source": [
    "# question 7"
   ]
  },
  {
   "cell_type": "code",
   "execution_count": 8,
   "id": "41ef88c6",
   "metadata": {},
   "outputs": [
    {
     "data": {
      "text/plain": [
       "25"
      ]
     },
     "execution_count": 8,
     "metadata": {},
     "output_type": "execute_result"
    }
   ],
   "source": [
    "age=25\n",
    "age"
   ]
  },
  {
   "cell_type": "markdown",
   "id": "af6f4f65",
   "metadata": {},
   "source": [
    "# question 8"
   ]
  },
  {
   "cell_type": "code",
   "execution_count": 9,
   "id": "ff6ceda5",
   "metadata": {},
   "outputs": [
    {
     "name": "stdout",
     "output_type": "stream",
     "text": [
      "it is float datatype\n"
     ]
    }
   ],
   "source": [
    "price=9.99\n",
    "print(\"it is float datatype\")"
   ]
  },
  {
   "cell_type": "markdown",
   "id": "cb2c3d04",
   "metadata": {},
   "source": [
    "# question 9"
   ]
  },
  {
   "cell_type": "code",
   "execution_count": 10,
   "id": "b6c3f943",
   "metadata": {},
   "outputs": [
    {
     "name": "stdout",
     "output_type": "stream",
     "text": [
      "my name is kartik gami\n"
     ]
    }
   ],
   "source": [
    "name=\"kartik gami\"\n",
    "print(\"my name is {}\".format(name))"
   ]
  },
  {
   "cell_type": "markdown",
   "id": "f54b9d9e",
   "metadata": {},
   "source": [
    "# question 10"
   ]
  },
  {
   "cell_type": "code",
   "execution_count": 11,
   "id": "26c7f38e",
   "metadata": {},
   "outputs": [
    {
     "data": {
      "text/plain": [
       "'World'"
      ]
     },
     "execution_count": 11,
     "metadata": {},
     "output_type": "execute_result"
    }
   ],
   "source": [
    "string=\"Hello,World!\"\n",
    "string[6:11]"
   ]
  },
  {
   "cell_type": "markdown",
   "id": "a437357e",
   "metadata": {},
   "source": [
    "# question 11"
   ]
  },
  {
   "cell_type": "code",
   "execution_count": null,
   "id": "ba45a024",
   "metadata": {},
   "outputs": [],
   "source": [
    "is_student=True"
   ]
  }
 ],
 "metadata": {
  "kernelspec": {
   "display_name": "Python 3 (ipykernel)",
   "language": "python",
   "name": "python3"
  },
  "language_info": {
   "codemirror_mode": {
    "name": "ipython",
    "version": 3
   },
   "file_extension": ".py",
   "mimetype": "text/x-python",
   "name": "python",
   "nbconvert_exporter": "python",
   "pygments_lexer": "ipython3",
   "version": "3.10.9"
  }
 },
 "nbformat": 4,
 "nbformat_minor": 5
}
