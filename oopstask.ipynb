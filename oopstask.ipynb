{
  "nbformat": 4,
  "nbformat_minor": 0,
  "metadata": {
    "colab": {
      "provenance": [],
      "authorship_tag": "ABX9TyO7ohJpthwCXyrBUT973WoT",
      "include_colab_link": true
    },
    "kernelspec": {
      "name": "python3",
      "display_name": "Python 3"
    },
    "language_info": {
      "name": "python"
    }
  },
  "cells": [
    {
      "cell_type": "markdown",
      "metadata": {
        "id": "view-in-github",
        "colab_type": "text"
      },
      "source": [
        "<a href=\"https://colab.research.google.com/github/kartixx01/assignment-1/blob/main/oopstask.ipynb\" target=\"_parent\"><img src=\"https://colab.research.google.com/assets/colab-badge.svg\" alt=\"Open In Colab\"/></a>"
      ]
    },
    {
      "cell_type": "markdown",
      "source": [
        "question 1"
      ],
      "metadata": {
        "id": "KGBBxKsG8WAw"
      }
    },
    {
      "cell_type": "code",
      "source": [
        "class vehicles:\n",
        "  def __init__(self,name_of_vehicle,max_speed,avg_of_vehicle):\n",
        "    self.name_of_vehicle=name_of_vehicle\n",
        "    self.max_speed=max_speed\n",
        "    self.avg_of_vehicle=avg_of_vehicle\n",
        "\n",
        "  def tata(self):\n",
        "    return self.avg_of_vehicle,self.max_speed,self.avg_of_vehicle\n",
        "\n",
        "obj1=vehicles(\"indigo\",200,\"4 lakh\")\n",
        "\n",
        "obj1.tata()"
      ],
      "metadata": {
        "colab": {
          "base_uri": "https://localhost:8080/"
        },
        "id": "Zj6gai058aY0",
        "outputId": "4f7109d2-da58-49ad-8b2f-0a7eed8e6966"
      },
      "execution_count": null,
      "outputs": [
        {
          "output_type": "execute_result",
          "data": {
            "text/plain": [
              "('4 lakh', 200, '4 lakh')"
            ]
          },
          "metadata": {},
          "execution_count": 3
        }
      ]
    },
    {
      "cell_type": "markdown",
      "source": [
        "question 2"
      ],
      "metadata": {
        "id": "uDCu6R8bFVjj"
      }
    },
    {
      "cell_type": "code",
      "source": [
        "class vehicles:\n",
        "  def __init__(self,name_of_vehicle,max_speed,avg_of_vehicle,capacity):\n",
        "    self.name_of_vehicle=name_of_vehicle\n",
        "    self.max_speed=max_speed\n",
        "    self.avg_of_vehicle=avg_of_vehicle\n",
        "    self.capacity=capacity\n",
        "\n",
        "class car(vehicles):\n",
        "  def car_capacity(self,capacity):\n",
        "    return self.name_of_vehicle,capacity\n",
        "\n",
        "obj2=car(\"indigo\",200,\"4 lakh\",5)\n",
        "obj2.car_capacity(5)"
      ],
      "metadata": {
        "id": "kw7ETu4FNH-e",
        "colab": {
          "base_uri": "https://localhost:8080/"
        },
        "outputId": "a991eba2-8d0e-46f3-aa0b-706a13ef2b45"
      },
      "execution_count": 10,
      "outputs": [
        {
          "output_type": "execute_result",
          "data": {
            "text/plain": [
              "('indigo', 5)"
            ]
          },
          "metadata": {},
          "execution_count": 10
        }
      ]
    },
    {
      "cell_type": "markdown",
      "source": [
        "question 3"
      ],
      "metadata": {
        "id": "Xu8Fwe5YOUyT"
      }
    },
    {
      "cell_type": "markdown",
      "source": [
        "multiple inheritance - a process where the child class or object inherits the methods and attributes from one or more parent classes."
      ],
      "metadata": {
        "id": "hecgzmxiPAgi"
      }
    },
    {
      "cell_type": "code",
      "source": [
        "class cars:\n",
        "  def tataa(self):\n",
        "    print(\"this is tataa\")\n",
        "class bikes(cars):\n",
        "  def honda(self):\n",
        "    print(\"this is honda\")\n",
        "class planes(bikes):\n",
        "  def indigo(self):\n",
        "    print(\"this is indigo\")\n",
        "\n",
        "obj3=planes()\n",
        "obj3.tataa()\n"
      ],
      "metadata": {
        "colab": {
          "base_uri": "https://localhost:8080/"
        },
        "id": "szX-T-9BTYCV",
        "outputId": "29b395b6-feb9-483c-b310-907513442e80"
      },
      "execution_count": 13,
      "outputs": [
        {
          "output_type": "stream",
          "name": "stdout",
          "text": [
            "this is tataa\n"
          ]
        }
      ]
    },
    {
      "cell_type": "markdown",
      "source": [
        "question 4"
      ],
      "metadata": {
        "id": "rAvdJUwrZVm_"
      }
    },
    {
      "cell_type": "markdown",
      "source": [
        "Getter: A method that allows you to access an attribute in a given class.\n",
        "\n",
        "Setter: A method that allows you to set or mutate the value of an attribute in a class."
      ],
      "metadata": {
        "id": "91zq7qWVadNS"
      }
    },
    {
      "cell_type": "code",
      "source": [
        "class Geeks:\n",
        "     def __init__(self):\n",
        "          self._age = 0\n",
        "     @property\n",
        "     def age(self):\n",
        "         print(\"getter method called\")\n",
        "         return self._age\n",
        "     @age.setter\n",
        "     def age(self, a):\n",
        "         if(a < 18):\n",
        "            raise ValueError(\"Sorry you age is below eligibility criteria\")\n",
        "         print(\"setter method called\")\n",
        "         self._age = a\n",
        "\n",
        "mark = Geeks()\n",
        "\n",
        "mark.age = 19\n",
        "\n",
        "print(mark.age)"
      ],
      "metadata": {
        "colab": {
          "base_uri": "https://localhost:8080/"
        },
        "id": "AHXu68qIaegi",
        "outputId": "86a12771-8227-414d-cbcc-2270306210ea"
      },
      "execution_count": 14,
      "outputs": [
        {
          "output_type": "stream",
          "name": "stdout",
          "text": [
            "setter method called\n",
            "getter method called\n",
            "19\n"
          ]
        }
      ]
    },
    {
      "cell_type": "markdown",
      "source": [
        "question 5"
      ],
      "metadata": {
        "id": "nOH-gxwab2wv"
      }
    },
    {
      "cell_type": "markdown",
      "source": [
        "Two or more methods have the same name but different numbers of parameters or different types of parameters, or both. These methods are called overloaded methods and this is called method overloading."
      ],
      "metadata": {
        "id": "G294xoXLc42B"
      }
    },
    {
      "cell_type": "code",
      "source": [
        "def add(a=None, b=None):\n",
        "    if a != None and b == None:\n",
        "        print(a)\n",
        "    else:\n",
        "        print(a+b)\n",
        "add(2, 3)\n",
        "add(2)"
      ],
      "metadata": {
        "colab": {
          "base_uri": "https://localhost:8080/"
        },
        "id": "aslHSyCwc55_",
        "outputId": "713ef7dd-3a52-4c93-c939-14071550e2ff"
      },
      "execution_count": 15,
      "outputs": [
        {
          "output_type": "stream",
          "name": "stdout",
          "text": [
            "5\n",
            "2\n"
          ]
        }
      ]
    }
  ]
}