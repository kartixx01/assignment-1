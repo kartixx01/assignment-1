{
 "cells": [
  {
   "cell_type": "markdown",
   "id": "dff9d8fb",
   "metadata": {},
   "source": [
    "question 1"
   ]
  },
  {
   "cell_type": "code",
   "execution_count": 1,
   "id": "6f7cb31f",
   "metadata": {},
   "outputs": [],
   "source": [
    "str=\"kartik\""
   ]
  },
  {
   "cell_type": "code",
   "execution_count": 2,
   "id": "b95ac8fd",
   "metadata": {},
   "outputs": [],
   "source": [
    "list=[1,2,3,4,[5,6]]"
   ]
  },
  {
   "cell_type": "code",
   "execution_count": 3,
   "id": "e7359c52",
   "metadata": {},
   "outputs": [],
   "source": [
    "pi=3.1415"
   ]
  },
  {
   "cell_type": "markdown",
   "id": "e82689bc",
   "metadata": {},
   "source": [
    "question2"
   ]
  },
  {
   "cell_type": "markdown",
   "id": "39e7e1a2",
   "metadata": {},
   "source": [
    "str,str,list,int"
   ]
  },
  {
   "cell_type": "markdown",
   "id": "8be2b6db",
   "metadata": {},
   "source": [
    "question 3\n"
   ]
  },
  {
   "cell_type": "markdown",
   "id": "4fd91c12",
   "metadata": {},
   "source": [
    "/ - division operator \n",
    "% - modulus operator returns the remainder\n",
    "// - divides the numbers and returns in int (round off)\n",
    "** - exponential operator"
   ]
  },
  {
   "cell_type": "markdown",
   "id": "d6846546",
   "metadata": {},
   "source": [
    "question 4"
   ]
  },
  {
   "cell_type": "code",
   "execution_count": 8,
   "id": "fe02349e",
   "metadata": {},
   "outputs": [
    {
     "name": "stdout",
     "output_type": "stream",
     "text": [
      "element=1 , type=<class 'int'>\n",
      "element=2.3 , type=<class 'float'>\n",
      "element=str , type=<class 'str'>\n",
      "element=[1, 2] , type=<class 'list'>\n",
      "element=(1+2j) , type=<class 'complex'>\n",
      "element=True , type=<class 'bool'>\n"
     ]
    }
   ],
   "source": [
    "list=[1,2.3,\"str\",[1,2],1+2j,True]\n",
    "for i in list:\n",
    "    print(\"element={} , type={}\".format(i,type(i)))"
   ]
  },
  {
   "cell_type": "markdown",
   "id": "b58c2a87",
   "metadata": {},
   "source": [
    "question 5"
   ]
  },
  {
   "cell_type": "code",
   "execution_count": null,
   "id": "e2818298",
   "metadata": {},
   "outputs": [],
   "source": [
    "a=int(input(\"enter the value of a\"))\n",
    "b=int(input(\"enter the value of b\"))\n",
    "while a%b==0:\n",
    "    print(a//b)"
   ]
  },
  {
   "cell_type": "markdown",
   "id": "d20cb463",
   "metadata": {},
   "source": [
    "question 6"
   ]
  },
  {
   "cell_type": "code",
   "execution_count": null,
   "id": "5215b751",
   "metadata": {},
   "outputs": [],
   "source": [
    "list=[1,2,3,4,5,6,7,8,9,10,11,12,13,14,15]\n",
    "for i in list:\n",
    "    if i%3==0:\n",
    "        print(\"{} is divisible by 3\".format(i))\n",
    "    else:\n",
    "        print(\"{} is not divisible by 3\".format(i))"
   ]
  },
  {
   "cell_type": "markdown",
   "id": "f622b10c",
   "metadata": {},
   "source": [
    "question 7"
   ]
  },
  {
   "cell_type": "markdown",
   "id": "d935444f",
   "metadata": {},
   "source": [
    "mutable datatypes can be altered - list\n",
    "immutable data types cannot be altered - strings "
   ]
  }
 ],
 "metadata": {
  "kernelspec": {
   "display_name": "Python 3 (ipykernel)",
   "language": "python",
   "name": "python3"
  },
  "language_info": {
   "codemirror_mode": {
    "name": "ipython",
    "version": 3
   },
   "file_extension": ".py",
   "mimetype": "text/x-python",
   "name": "python",
   "nbconvert_exporter": "python",
   "pygments_lexer": "ipython3",
   "version": "3.10.9"
  }
 },
 "nbformat": 4,
 "nbformat_minor": 5
}
