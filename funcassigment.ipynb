{
  "nbformat": 4,
  "nbformat_minor": 0,
  "metadata": {
    "colab": {
      "provenance": [],
      "authorship_tag": "ABX9TyODn57DzLNmvymIdfzGogi6",
      "include_colab_link": true
    },
    "kernelspec": {
      "name": "python3",
      "display_name": "Python 3"
    },
    "language_info": {
      "name": "python"
    }
  },
  "cells": [
    {
      "cell_type": "markdown",
      "metadata": {
        "id": "view-in-github",
        "colab_type": "text"
      },
      "source": [
        "<a href=\"https://colab.research.google.com/github/kartixx01/assignment-1/blob/main/funcassigment.ipynb\" target=\"_parent\"><img src=\"https://colab.research.google.com/assets/colab-badge.svg\" alt=\"Open In Colab\"/></a>"
      ]
    },
    {
      "cell_type": "markdown",
      "source": [
        "question 1"
      ],
      "metadata": {
        "id": "C-AtLW7RTmZM"
      }
    },
    {
      "cell_type": "code",
      "source": [
        "# def keyword is used to create a function\n",
        "def odd():\n",
        "  l=[]\n",
        "  for i in range(1,26):\n",
        "    if i%2!=0:\n",
        "      l.append(i)\n",
        "  return l\n",
        "print(odd())\n"
      ],
      "metadata": {
        "colab": {
          "base_uri": "https://localhost:8080/"
        },
        "id": "EvXgCU8PTsmF",
        "outputId": "c968b31c-12ed-4a37-c0fd-3e598dd1e2e9"
      },
      "execution_count": 5,
      "outputs": [
        {
          "output_type": "stream",
          "name": "stdout",
          "text": [
            "[1, 3, 5, 7, 9, 11, 13, 15, 17, 19, 21, 23, 25]\n"
          ]
        }
      ]
    },
    {
      "cell_type": "markdown",
      "source": [
        "question 2"
      ],
      "metadata": {
        "id": "l8o7Oob2Vuz7"
      }
    },
    {
      "cell_type": "code",
      "source": [
        "# *args is used for passing variable number of arguments in the runtime\n",
        "# **kwargs is used for passing variable number of keyword arguments, as a dictionary"
      ],
      "metadata": {
        "id": "yYIJuxLcVxzr"
      },
      "execution_count": null,
      "outputs": []
    },
    {
      "cell_type": "code",
      "source": [
        "def sq(*args):\n",
        "  l=[]\n",
        "  for i in args:\n",
        "    l.append(i**2)\n",
        "  return l\n",
        "print(sq(1,2,3,4,5,6))"
      ],
      "metadata": {
        "colab": {
          "base_uri": "https://localhost:8080/"
        },
        "id": "1_SBJIkIXyUE",
        "outputId": "dac94a54-b6d3-4cdf-9725-bbae3536a486"
      },
      "execution_count": 7,
      "outputs": [
        {
          "output_type": "stream",
          "name": "stdout",
          "text": [
            "[1, 4, 9, 16, 25, 36]\n"
          ]
        }
      ]
    },
    {
      "cell_type": "markdown",
      "source": [
        "question 3"
      ],
      "metadata": {
        "id": "vDd18SD9ZfpM"
      }
    },
    {
      "cell_type": "code",
      "source": [
        "# iterators are used for traversing through lists,strings etc\n",
        "# generator function is used for iteration"
      ],
      "metadata": {
        "id": "pWAl0cscZhaa"
      },
      "execution_count": null,
      "outputs": []
    },
    {
      "cell_type": "code",
      "source": [
        "l=[2,4,6,8,10,12,14,16,18,20]\n",
        "def gen(l):\n",
        "  count=0\n",
        "  for i in l:\n",
        "    if count<5:\n",
        "      yield i\n",
        "      count+=1\n",
        "    else:\n",
        "      break\n",
        "for i in gen(l):\n",
        "  print(i)"
      ],
      "metadata": {
        "colab": {
          "base_uri": "https://localhost:8080/"
        },
        "id": "IonDJRV7aybn",
        "outputId": "382eb9d4-92e1-43d5-fb6d-ee67906f8f90"
      },
      "execution_count": 11,
      "outputs": [
        {
          "output_type": "stream",
          "name": "stdout",
          "text": [
            "2\n",
            "4\n",
            "6\n",
            "8\n",
            "10\n"
          ]
        }
      ]
    },
    {
      "cell_type": "markdown",
      "source": [
        "question 4"
      ],
      "metadata": {
        "id": "xQvOGQktb5mD"
      }
    },
    {
      "cell_type": "code",
      "source": [
        "# generator function is used for iteration which does not give any return type\n",
        "# yield keyword is used to control the flow of generator function\n",
        "\n",
        "def fib(n):\n",
        "  a,b=0,1\n",
        "  for i in range(n):\n",
        "    yield a\n",
        "    a,b=b,a+b\n",
        "for i in fib(10):\n",
        "  print(i)\n",
        "\n",
        "\n",
        "\n"
      ],
      "metadata": {
        "colab": {
          "base_uri": "https://localhost:8080/"
        },
        "id": "GKaEOl5Bb7r6",
        "outputId": "b5fac2e1-38b7-41cd-e387-f73c1b0f015a"
      },
      "execution_count": 14,
      "outputs": [
        {
          "output_type": "stream",
          "name": "stdout",
          "text": [
            "0\n",
            "1\n",
            "1\n",
            "2\n",
            "3\n",
            "5\n",
            "8\n",
            "13\n",
            "21\n",
            "34\n"
          ]
        }
      ]
    },
    {
      "cell_type": "markdown",
      "source": [
        "question 5"
      ],
      "metadata": {
        "id": "k_XNWv79iRSA"
      }
    },
    {
      "cell_type": "code",
      "source": [
        "def prime(n):\n",
        "  i = 2\n",
        "  while i < n:\n",
        "    is_prime = True\n",
        "    for j in range(2, int(i**0.5) + 1):\n",
        "      if i % j == 0:\n",
        "        is_prime = False\n",
        "        break\n",
        "    if is_prime:\n",
        "      yield i\n",
        "    i += 1\n",
        "\n",
        "for a in prime(1000):\n",
        "  print(a)\n"
      ],
      "metadata": {
        "colab": {
          "base_uri": "https://localhost:8080/"
        },
        "id": "F72UdzhGiTgX",
        "outputId": "579005c1-2580-413b-f5cf-8ca307ed65bf"
      },
      "execution_count": 23,
      "outputs": [
        {
          "output_type": "stream",
          "name": "stdout",
          "text": [
            "2\n",
            "3\n",
            "5\n",
            "7\n",
            "11\n",
            "13\n",
            "17\n",
            "19\n",
            "23\n",
            "29\n",
            "31\n",
            "37\n",
            "41\n",
            "43\n",
            "47\n",
            "53\n",
            "59\n",
            "61\n",
            "67\n",
            "71\n",
            "73\n",
            "79\n",
            "83\n",
            "89\n",
            "97\n",
            "101\n",
            "103\n",
            "107\n",
            "109\n",
            "113\n",
            "127\n",
            "131\n",
            "137\n",
            "139\n",
            "149\n",
            "151\n",
            "157\n",
            "163\n",
            "167\n",
            "173\n",
            "179\n",
            "181\n",
            "191\n",
            "193\n",
            "197\n",
            "199\n",
            "211\n",
            "223\n",
            "227\n",
            "229\n",
            "233\n",
            "239\n",
            "241\n",
            "251\n",
            "257\n",
            "263\n",
            "269\n",
            "271\n",
            "277\n",
            "281\n",
            "283\n",
            "293\n",
            "307\n",
            "311\n",
            "313\n",
            "317\n",
            "331\n",
            "337\n",
            "347\n",
            "349\n",
            "353\n",
            "359\n",
            "367\n",
            "373\n",
            "379\n",
            "383\n",
            "389\n",
            "397\n",
            "401\n",
            "409\n",
            "419\n",
            "421\n",
            "431\n",
            "433\n",
            "439\n",
            "443\n",
            "449\n",
            "457\n",
            "461\n",
            "463\n",
            "467\n",
            "479\n",
            "487\n",
            "491\n",
            "499\n",
            "503\n",
            "509\n",
            "521\n",
            "523\n",
            "541\n",
            "547\n",
            "557\n",
            "563\n",
            "569\n",
            "571\n",
            "577\n",
            "587\n",
            "593\n",
            "599\n",
            "601\n",
            "607\n",
            "613\n",
            "617\n",
            "619\n",
            "631\n",
            "641\n",
            "643\n",
            "647\n",
            "653\n",
            "659\n",
            "661\n",
            "673\n",
            "677\n",
            "683\n",
            "691\n",
            "701\n",
            "709\n",
            "719\n",
            "727\n",
            "733\n",
            "739\n",
            "743\n",
            "751\n",
            "757\n",
            "761\n",
            "769\n",
            "773\n",
            "787\n",
            "797\n",
            "809\n",
            "811\n",
            "821\n",
            "823\n",
            "827\n",
            "829\n",
            "839\n",
            "853\n",
            "857\n",
            "859\n",
            "863\n",
            "877\n",
            "881\n",
            "883\n",
            "887\n",
            "907\n",
            "911\n",
            "919\n",
            "929\n",
            "937\n",
            "941\n",
            "947\n",
            "953\n",
            "967\n",
            "971\n",
            "977\n",
            "983\n",
            "991\n",
            "997\n"
          ]
        }
      ]
    }
  ]
}