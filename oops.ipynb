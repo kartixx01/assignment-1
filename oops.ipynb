{
  "nbformat": 4,
  "nbformat_minor": 0,
  "metadata": {
    "colab": {
      "provenance": [],
      "authorship_tag": "ABX9TyM2y+at2TkeGgexorykSDqX",
      "include_colab_link": true
    },
    "kernelspec": {
      "name": "python3",
      "display_name": "Python 3"
    },
    "language_info": {
      "name": "python"
    }
  },
  "cells": [
    {
      "cell_type": "markdown",
      "metadata": {
        "id": "view-in-github",
        "colab_type": "text"
      },
      "source": [
        "<a href=\"https://colab.research.google.com/github/kartixx01/assignment-1/blob/main/oops.ipynb\" target=\"_parent\"><img src=\"https://colab.research.google.com/assets/colab-badge.svg\" alt=\"Open In Colab\"/></a>"
      ]
    },
    {
      "cell_type": "markdown",
      "source": [
        "question 1\n"
      ],
      "metadata": {
        "id": "QAkkAq5r6RuU"
      }
    },
    {
      "cell_type": "code",
      "source": [
        "# class is a constructor which can be used to definr objects inside it. objects are instances used to perform a method or a task\n",
        "\n",
        "class item:\n",
        "    pay_rate=0.8\n",
        "    def __init__(self,name:str,price:float,quantity=0):\n",
        "        self.name=name\n",
        "        self.price=price\n",
        "        self.quantity=quantity\n",
        "\n",
        "        assert price>=0 ,f\"price {price} is not greater than 0!\"\n",
        "        assert quantity>=0,f\"quntity{quantity} is not greater than or equal to 0!\"\n",
        "\n",
        "    def cal_tot(self):\n",
        "        return self.price*self.quantity\n",
        "\n",
        "    def discount(self):\n",
        "        self.price= self.cal_tot() * item.pay_rate\n",
        "\n",
        "obj1=item(\"phone\",200,10)\n",
        "obj2=item(\"laptop\",1000,5)\n",
        "print(obj1.cal_tot())\n",
        "print(obj2.cal_tot())\n",
        "\n",
        "obj1.discount()\n",
        "print(obj1.price)\n",
        "obj2.discount()\n",
        "print(obj2.price)\n",
        "\n"
      ],
      "metadata": {
        "colab": {
          "base_uri": "https://localhost:8080/"
        },
        "id": "8dUpVvpL8GNK",
        "outputId": "be3b16cd-e99e-4166-ebdf-c3b3569ad09d"
      },
      "execution_count": 2,
      "outputs": [
        {
          "output_type": "stream",
          "name": "stdout",
          "text": [
            "2000\n",
            "5000\n",
            "1600.0\n",
            "4000.0\n"
          ]
        }
      ]
    },
    {
      "cell_type": "markdown",
      "source": [
        "question 2\n"
      ],
      "metadata": {
        "id": "LvtVB-u29NX-"
      }
    },
    {
      "cell_type": "code",
      "source": [
        "# The Four Pillars of Object Oriented Programming\n",
        "# Abstraction.\n",
        "# Encapsulation.\n",
        "# Inheritance.\n",
        "# Polymorphism."
      ],
      "metadata": {
        "id": "d5N2-yHV9RC5"
      },
      "execution_count": null,
      "outputs": []
    },
    {
      "cell_type": "markdown",
      "source": [
        "question 3"
      ],
      "metadata": {
        "id": "NT2fJDyX9d1v"
      }
    },
    {
      "cell_type": "code",
      "source": [
        "# The __init__() function is used to initialize the attributes of an object when it is created. It is called automatically every time an object is created from a class.\n",
        "\n",
        "class item:\n",
        "    pay_rate=0.8\n",
        "    def __init__(self,name:str,price:float,quantity=0):\n",
        "        self.name=name\n",
        "        self.price=price\n",
        "        self.quantity=quantity"
      ],
      "metadata": {
        "id": "0oGo4a2S9gea"
      },
      "execution_count": 3,
      "outputs": []
    },
    {
      "cell_type": "markdown",
      "source": [
        "question 4"
      ],
      "metadata": {
        "id": "OjNxPkcj-M0u"
      }
    },
    {
      "cell_type": "code",
      "source": [
        "# When a method is called, the self keyword is automatically passed as the first argument. This allows the method to access the attributes and methods of the class."
      ],
      "metadata": {
        "id": "lon0jmnT-QOc"
      },
      "execution_count": null,
      "outputs": []
    },
    {
      "cell_type": "markdown",
      "source": [
        "question 5"
      ],
      "metadata": {
        "id": "QOAxGtqk_GJ8"
      }
    },
    {
      "cell_type": "code",
      "source": [
        "class Animal:\n",
        "\n",
        "    name = \"bruno\"\n",
        "\n",
        "    def eat(self):\n",
        "        print(\"I can eat\")\n",
        "\n",
        "class Dog(Animal):\n",
        "\n",
        "    def display(self):\n",
        "        print(\"My name is \", self.name)\n",
        "\n",
        "labrador = Dog()\n",
        "\n",
        "labrador.name = \"Rohu\"\n",
        "labrador.eat()\n",
        "\n",
        "labrador.display()"
      ],
      "metadata": {
        "colab": {
          "base_uri": "https://localhost:8080/"
        },
        "id": "tcMGGXpT_JXu",
        "outputId": "abbe3bd2-9f1f-4219-9379-f68661493a0e"
      },
      "execution_count": 6,
      "outputs": [
        {
          "output_type": "stream",
          "name": "stdout",
          "text": [
            "I can eat\n",
            "My name is  Rohu\n"
          ]
        }
      ]
    }
  ]
}