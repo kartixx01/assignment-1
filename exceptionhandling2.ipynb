{
  "nbformat": 4,
  "nbformat_minor": 0,
  "metadata": {
    "colab": {
      "provenance": [],
      "authorship_tag": "ABX9TyMPKADiGh35VW+knYnx/tSD",
      "include_colab_link": true
    },
    "kernelspec": {
      "name": "python3",
      "display_name": "Python 3"
    },
    "language_info": {
      "name": "python"
    }
  },
  "cells": [
    {
      "cell_type": "markdown",
      "metadata": {
        "id": "view-in-github",
        "colab_type": "text"
      },
      "source": [
        "<a href=\"https://colab.research.google.com/github/kartixx01/assignment-1/blob/main/exceptionhandling2.ipynb\" target=\"_parent\"><img src=\"https://colab.research.google.com/assets/colab-badge.svg\" alt=\"Open In Colab\"/></a>"
      ]
    },
    {
      "cell_type": "markdown",
      "source": [
        "question 1"
      ],
      "metadata": {
        "id": "NKYgshbbcDSC"
      }
    },
    {
      "cell_type": "markdown",
      "source": [
        "We have to use the exception class while creating custom exception because it allows our custom exception to be handled in the same way as built-in exceptions. This means that we can use the try and except statements to handle our custom exception"
      ],
      "metadata": {
        "id": "368byw1ddIHj"
      }
    },
    {
      "cell_type": "markdown",
      "source": [
        "question 2"
      ],
      "metadata": {
        "id": "mrknn2YPdQWZ"
      }
    },
    {
      "cell_type": "code",
      "source": [
        "try:\n",
        "    1 / 0\n",
        "except ZeroDivisionError:\n",
        "    print(\"You cannot divide by zero!\")\n",
        "finally:\n",
        "    print(\"This code will always be executed!\")"
      ],
      "metadata": {
        "colab": {
          "base_uri": "https://localhost:8080/"
        },
        "id": "_Mw06_65eIcr",
        "outputId": "eec1f14a-6897-4090-a20e-6822d19bab44"
      },
      "execution_count": 1,
      "outputs": [
        {
          "output_type": "stream",
          "name": "stdout",
          "text": [
            "You cannot divide by zero!\n",
            "This code will always be executed!\n"
          ]
        }
      ]
    },
    {
      "cell_type": "markdown",
      "source": [
        "question 3"
      ],
      "metadata": {
        "id": "d5N0xat7eXxb"
      }
    },
    {
      "cell_type": "code",
      "source": [
        "#ZeroDivisionError\n",
        "try:\n",
        "    a = 10/0\n",
        "    print (a)\n",
        "except ArithmeticError:\n",
        "        print (\"This statement is raising an arithmetic exception.\")\n",
        "else:\n",
        "    print (\"Success.\")"
      ],
      "metadata": {
        "colab": {
          "base_uri": "https://localhost:8080/"
        },
        "id": "K03fgCi2ftWV",
        "outputId": "fe345fdd-59ae-4ef9-f00d-2132bea93f16"
      },
      "execution_count": 2,
      "outputs": [
        {
          "output_type": "stream",
          "name": "stdout",
          "text": [
            "This statement is raising an arithmetic exception.\n"
          ]
        }
      ]
    },
    {
      "cell_type": "code",
      "source": [
        "#LookupError\n",
        "try:\n",
        "    a = [1, 2, 3]\n",
        "    print (a[3])\n",
        "except LookupError:\n",
        "    print (\"Index out of bound error.\")\n",
        "else:\n",
        "    print (\"Success\")"
      ],
      "metadata": {
        "colab": {
          "base_uri": "https://localhost:8080/"
        },
        "id": "KwSQMGSpf0iz",
        "outputId": "13983d07-86fa-411c-eac5-4858b8d74055"
      },
      "execution_count": 3,
      "outputs": [
        {
          "output_type": "stream",
          "name": "stdout",
          "text": [
            "Index out of bound error.\n"
          ]
        }
      ]
    },
    {
      "cell_type": "markdown",
      "source": [
        "question 4"
      ],
      "metadata": {
        "id": "GDJetSsPhiKq"
      }
    },
    {
      "cell_type": "markdown",
      "source": [
        "ImportError - occurs when the Python program tries to import module which does not exist\n",
        "\n",
        "ModuleNotFoundError - Incorrect spelling of the module name"
      ],
      "metadata": {
        "id": "07WzBzi5hkTO"
      }
    },
    {
      "cell_type": "markdown",
      "source": [
        "question 5"
      ],
      "metadata": {
        "id": "oPg3eTSjh4h1"
      }
    },
    {
      "cell_type": "markdown",
      "source": [],
      "metadata": {
        "id": "N8NIk82Zh6xI"
      }
    }
  ]
}